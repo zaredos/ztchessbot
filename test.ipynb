{
 "cells": [
  {
   "cell_type": "code",
   "execution_count": 76,
   "metadata": {},
   "outputs": [],
   "source": [
    "import chess, random\n",
    "board = chess.Board(\"rnbqkbnr/pppppppp/8/8/8/8/PPPPPPPP/RNBQKBNR w KQkq - 0 1\")"
   ]
  },
  {
   "cell_type": "code",
   "execution_count": 20,
   "metadata": {},
   "outputs": [
    {
     "name": "stdout",
     "output_type": "stream",
     "text": [
      "d2\n",
      "a3\n",
      "c3\n"
     ]
    }
   ],
   "source": [
    "for square in board.attacks(chess.B1):\n",
    "    print(chess.square_name(square))\n"
   ]
  },
  {
   "cell_type": "code",
   "execution_count": 84,
   "metadata": {},
   "outputs": [],
   "source": [
    "class TranspositionTable:\n",
    "    def __init__(self):\n",
    "        self.table = {}\n",
    "        self.hash = 0\n",
    "        self.random_keys = [random.randint(0, 2 ** 64 - 1) for _ in range(769)] # 12 * 64 + 1\n",
    "        self.piece_keys = {\n",
    "            chess.PAWN: 0,\n",
    "            chess.KNIGHT: 1,\n",
    "            chess.BISHOP: 2,\n",
    "            chess.ROOK: 3,\n",
    "            chess.QUEEN: 4,\n",
    "            chess.KING: 5\n",
    "        }\n",
    "        self.turn_key = 12\n",
    "\n",
    "    def probe(self):\n",
    "        return self.table.get(self.hash, None)\n",
    "    \n",
    "    def store(self, depth, eval, flag):\n",
    "        self.table[self.hash] = (depth, eval, flag)\n",
    "\n",
    "    def zobrist_hash(self, board):\n",
    "        for square in chess.SQUARES:\n",
    "            piece = board.piece_at(square)\n",
    "            if piece is not None:\n",
    "                self.hash ^= self.random_keys[64 * self.get_piece_key(piece) + square]  \n",
    "        if board.turn == chess.BLACK:\n",
    "            self.hash ^= self.random_keys[64 * self.turn_key]\n",
    "        return self.hash\n",
    "\n",
    "    def move_hash(self, board, move):\n",
    "        from_square = move.from_square\n",
    "        to_square = move.to_square\n",
    "        piece = board.piece_at(from_square) # Don't need to check if piece is None because move is legal\n",
    "        captured_piece = board.piece_at(to_square)\n",
    "        if captured_piece is not None: # If a piece is captured, remove it from the hash\n",
    "            self.hash ^= self.random_keys[64 * self.get_piece_key(captured_piece) + to_square]\n",
    "        piece_value = self.get_piece_key(piece)\n",
    "        self.hash ^= self.random_keys[64 * piece_value + from_square] # Remove piece from old square\n",
    "        self.hash ^= self.random_keys[64 * piece_value + to_square] # Add piece to new square\n",
    "        if board.turn == chess.BLACK:\n",
    "            self.hash ^= self.random_keys[64 * self.turn_key]\n",
    "        return self.hash\n",
    "    \n",
    "    def get_piece_key(self, piece):\n",
    "        piece_value = self.piece_keys[piece.piece_type]\n",
    "        if piece.color == chess.BLACK:\n",
    "            piece_value += 6\n",
    "        return piece_value\n",
    "    \n",
    "    def set_hash(self, hash):\n",
    "        self.hash = hash\n",
    "        \n",
    "    def get_hash(self):\n",
    "        return self.hash\n",
    "\n",
    "    def clear(self):\n",
    "        self.table = {}"
   ]
  },
  {
   "cell_type": "code",
   "execution_count": 85,
   "metadata": {},
   "outputs": [
    {
     "name": "stdout",
     "output_type": "stream",
     "text": [
      "18291710415317057545\n",
      "r n b q k b n r\n",
      "p p p p p p p p\n",
      ". . . . . . . .\n",
      ". . . . . . . .\n",
      ". . . . . . . .\n",
      ". . . . . . . .\n",
      "P P P P P P P P\n",
      "R N B Q K B N R\n"
     ]
    }
   ],
   "source": [
    "tt = TranspositionTable()\n",
    "print(tt.zobrist_hash(board))\n",
    "print(board)"
   ]
  },
  {
   "cell_type": "code",
   "execution_count": 86,
   "metadata": {},
   "outputs": [],
   "source": [
    "tt.store(4, .256, 0)"
   ]
  },
  {
   "cell_type": "code",
   "execution_count": null,
   "metadata": {},
   "outputs": [],
   "source": [
    "tt.get"
   ]
  },
  {
   "cell_type": "code",
   "execution_count": 53,
   "metadata": {},
   "outputs": [],
   "source": [
    "def evaluate(self, board) -> float:\n",
    "\n",
    "        piece_values = {\n",
    "            chess.PAWN: 1,\n",
    "            chess.KNIGHT: 3,\n",
    "            chess.BISHOP: 3.15,\n",
    "            chess.ROOK: 5.1,\n",
    "            chess.QUEEN: 9,\n",
    "            chess.KING: 9999 # King is worth \"infinite\" points\n",
    "        }\n",
    "\n",
    "        def get_positional_bonus(piece, square):\n",
    "            # Simple positional bonuses for pieces\n",
    "            bonus = 0\n",
    "            if piece.piece_type == chess.PAWN:\n",
    "                if piece.color == chess.WHITE:\n",
    "                    distance_to_promotion = 7 - chess.square_rank(square)\n",
    "                else:\n",
    "                    distance_to_promotion = chess.square_rank(square)\n",
    "                if distance_to_promotion < 6: # Dont give bonus if pawn is on starting square, gives incentive to move pawns\n",
    "                    bonus += 2 * (3 ** (1 - distance_to_promotion)) # Exponential bonus for pawns closer to promotion - I used 2 when the pawn is 1 square away from promotion because people typically equate 2 pawns on the 7th rank to a rook\n",
    "            elif piece.piece_type == chess.KNIGHT:\n",
    "                controlled_squares = board.attacks(square)\n",
    "                for square in controlled_squares:\n",
    "                    if board.piece_at(square) is not None:\n",
    "                        bonus += 0.03\n",
    "                    bonus += 0.025 * (4 - abs(3 - chess.square_file(square)))  # Bonus for controlling the center\n",
    "                #bonus += 0.025 * controlling_squares  # Bonus for controlling squares\n",
    "                #bonus += 0.2 * (4 - abs(3 - chess.file_index(square)))  # Bonus for controlling the center\n",
    "            elif piece.piece_type == chess.BISHOP:\n",
    "                controlled_squares = board.attacks(square)\n",
    "                bonus += 0.02 * len(controlled_squares)  # Bonus for controlling long diagonals\n",
    "                for attacked_square in controlled_squares:\n",
    "                    if board.piece_at(attacked_square) is not None and board.is_pinned(not piece.color, attacked_square):\n",
    "                        bonus += 0.2 # Bonus for pinning pieces\n",
    "            elif piece.piece_type == chess.ROOK:\n",
    "                controlled_squares = board.attacks(square)\n",
    "                bonus += 0.025 * len(controlled_squares)           \n",
    "                rook_file = chess.square_file(square)\n",
    "                for pawn_square in board.pieces(chess.PAWN, piece.color):\n",
    "                    if chess.square_file(pawn_square) == rook_file:\n",
    "                        bonus -= 0.2 # Penalty for rook being blocked by same coloed pawn\n",
    "                        break\n",
    "            elif piece.piece_type == chess.QUEEN:\n",
    "                controlling_squares = len(board.attacks(square))\n",
    "                bonus += 0.015 * controlling_squares   # Give queen a smaller bonus since queens have more mobility \n",
    "            elif piece.piece_type == chess.KING:\n",
    "                for attacked_square in board.attacks(square):\n",
    "                    adjacent_piece = board.piece_at(attacked_square)\n",
    "                    if adjacent_piece is not None:\n",
    "                        if adjacent_piece.piece_type == chess.PAWN and adjacent_piece.color == piece.color:\n",
    "                            bonus += 0.05 # Bonus for king being protected by pawn\n",
    "                        bonus += 0.02 # Bonus for king being protected by other pieces\n",
    "            return bonus\n",
    "\n",
    "        if board.is_checkmate():\n",
    "            if board.turn:\n",
    "                return float('-inf')\n",
    "            else:\n",
    "                return float('inf')\n",
    "        elif board.is_stalemate() or board.is_insufficient_material():\n",
    "            return 0\n",
    "        else:\n",
    "            score = 0\n",
    "            for square in chess.SQUARES:\n",
    "                piece = board.piece_at(square)\n",
    "                if piece is not None:\n",
    "                    value = piece_values[piece.piece_type] + get_positional_bonus(piece, square)\n",
    "                    if piece.color == chess.WHITE:\n",
    "                        score += value\n",
    "                    else:\n",
    "                        score -= value\n",
    "                    # print(f\"Piece: {piece}, Score: {value}\")\n",
    "            return score"
   ]
  },
  {
   "cell_type": "code",
   "execution_count": 58,
   "metadata": {},
   "outputs": [],
   "source": [
    "my_game = chess.Board('rnb1kb1r/pp1P1ppp/1qp1P3/3p2B1/4P3/2N3P1/PPP3P1/R2QKBNR')"
   ]
  },
  {
   "cell_type": "code",
   "execution_count": 61,
   "metadata": {},
   "outputs": [
    {
     "data": {
      "text/plain": [
       "1"
      ]
     },
     "execution_count": 61,
     "metadata": {},
     "output_type": "execute_result"
    }
   ],
   "source": [
    "chess.square_file(chess.B3)"
   ]
  },
  {
   "cell_type": "code",
   "execution_count": 7,
   "metadata": {},
   "outputs": [
    {
     "name": "stdout",
     "output_type": "stream",
     "text": [
      "-80, -70, -70, -70, -70, -70, -70, -80, \n",
      "-60, -60, -60, -60, -60, -60, -60, -60, \n",
      "-40, -50, -50, -60, -60, -50, -50, -40, \n",
      "-30, -40, -40, -50, -50, -40, -40, -30, \n",
      "-20, -30, -30, -40, -40, -30, -30, -20, \n",
      "-10, -20, -20, -20, -20, -20, -20, -10, \n",
      "20, 20, -5, -5, -5, -5, 20, 20, \n",
      "20, 30, 10, 0, 0, 10, 30, 20, \n",
      "\n",
      "-20, -10, -10, -10, -10, -10, -10, -20, \n",
      "-5, 0, 5, 5, 5, 5, 0, -5, \n",
      "-10, -5, 20, 30, 30, 20, -5, -10, \n",
      "-15, -10, 35, 45, 45, 35, -10, -15, \n",
      "-20, -15, 30, 40, 40, 30, -15, -20, \n",
      "-25, -20, 20, 25, 25, 20, -20, -25, \n",
      "-30, -25, 0, 0, 0, 0, -25, -30, \n",
      "-50, -30, -30, -30, -30, -30, -30, -50, \n"
     ]
    }
   ],
   "source": [
    "KingStart = [ -80, -70, -70, -70, -70, -70, -70, -80, -60, -60, -60, -60, -60, -60, -60, -60, -40, -50, -50, -60, -60, -50, -50, -40, -30, -40, -40, -50, -50, -40, -40, -30, -20, -30, -30, -40, -40, -30, -30, -20, -10, -20, -20, -20, -20, -20, -20, -10, 20, 20, -5, -5, -5, -5, 20, 20, 20, 30, 10, 0, 0, 10, 30, 20 ]\n",
    "\n",
    "KingEnd = [ -20, -10, -10, -10, -10, -10, -10, -20, -5, 0, 5, 5, 5, 5, 0, -5, -10, -5, 20, 30, 30, 20, -5, -10, -15, -10, 35, 45, 45, 35, -10, -15, -20, -15, 30, 40, 40, 30, -15, -20, -25, -20, 20, 25, 25, 20, -20, -25, -30, -25, 0, 0, 0, 0, -25, -30, -50, -30, -30, -30, -30, -30, -30, -50 ]\n",
    "\n",
    "for i in range(64):\n",
    "    print(KingStart[i], end = \", \")\n",
    "    if i % 8 == 7:\n",
    "        print()\n",
    "\n",
    "print()\n",
    "for i in range(64):\n",
    "    print(KingEnd[i], end = \", \")\n",
    "    if i % 8 == 7:\n",
    "        print()"
   ]
  }
 ],
 "metadata": {
  "kernelspec": {
   "display_name": "Python 3",
   "language": "python",
   "name": "python3"
  },
  "language_info": {
   "codemirror_mode": {
    "name": "ipython",
    "version": 3
   },
   "file_extension": ".py",
   "mimetype": "text/x-python",
   "name": "python",
   "nbconvert_exporter": "python",
   "pygments_lexer": "ipython3",
   "version": "3.11.4"
  }
 },
 "nbformat": 4,
 "nbformat_minor": 2
}
